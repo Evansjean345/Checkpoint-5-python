{
  "cells": [
    {
      "cell_type": "code",
      "source": [
        "#question 4\n",
        "\n",
        "class Bank :\n",
        "\n",
        "      def __init__(self):\n",
        "          self.solde = 50000\n",
        "          print(f'votre solde est de {self.solde} €')\n",
        "\n",
        "      def get_depot(self):\n",
        "          self.depot = float(input('entrer la somme que vous vous deposez : '))\n",
        "          new_compte = self.solde + self.depot\n",
        "          print(f\"vous venez d'effectuer 6un depot de {self.depot} €\")\n",
        "          return (f'votre nouveau solde est de {new_compte} €')\n",
        "\n",
        "      def get_retrait(self):\n",
        "          self.retrait = float(input(\"entrer la somme d'argent que vous voulez retirer\"))\n",
        "          old_compte = self.solde - self.retrait\n",
        "          if self.retrait  > self.solde :\n",
        "              print(\"vous ne pouvez pas effectuer ce retrait !!!\")\n",
        "              print(f'le montant du retrait est superieur a votre solde qui est de : {self.solde} €')\n",
        "          else :\n",
        "              old_compte = self.solde - self.retrait\n",
        "              print(f'vous venez d retirer {self.retrait} €')\n",
        "              return (f'votre nouveau solde est de {old_compte} €')\n",
        "                \n",
        "              \n",
        "montant=Bank()\n",
        "\n",
        "print(f\"{montant.get_depot()}\")\n",
        "\n",
        "print(f'{montant.get_retrait()}')\n",
        "  "
      ],
      "metadata": {
        "colab": {
          "base_uri": "https://localhost:8080/"
        },
        "id": "PvQgREmzUosi",
        "outputId": "af77ecc5-e360-4959-988d-aeff28dcff0e"
      },
      "execution_count": 41,
      "outputs": [
        {
          "output_type": "stream",
          "name": "stdout",
          "text": [
            "votre solde est de 50000 €\n",
            "entrer la somme que vous vous deposez : 15000\n",
            "vous venez d'effectuer un depot de 15000.0 €\n",
            "votre nouveau solde est de 65000.0 €\n",
            "entrer la somme d'argent que vous voulez retirer7000\n",
            "vous venez d retirer 7000.0 €\n",
            "votre nouveau solde est de 43000.0 €\n"
          ]
        }
      ]
    },
    {
      "cell_type": "code",
      "source": [
        "#question 3\n",
        "from math import *\n",
        "\n",
        "class Circle:\n",
        "\n",
        "    def __init__(self,O,r):\n",
        "          self.O = O\n",
        "          self.r = r\n",
        "\n",
        "    def get_O(self):\n",
        "        return self.O\n",
        "\n",
        "    def get_r(self):\n",
        "        return self.r\n",
        "\n",
        "    def circle_air(self):\n",
        "        a = pi * self.r * self.r\n",
        "        return print(f\"l 'air est : {a}\")\n",
        "\n",
        "\n",
        "    def perimetre(self):\n",
        "        p = 2 * pi * self.r\n",
        "        return print(f\"le perimetre est : {p}\")\n",
        "\n",
        "    def isInside(self,x,y):      \n",
        "        point_A= (x-4)**2  + (y-5)**2\n",
        "        if (point_A == 9):\n",
        "            return  print(\"point_A appartient a la classe Circle\")\n",
        "        else :\n",
        "            return  print(\"point_A n'appartient pas à la classe Circle\")"
      ],
      "metadata": {
        "id": "27zlDeBXaOKE"
      },
      "execution_count": 42,
      "outputs": []
    },
    {
      "cell_type": "code",
      "source": [
        "# quetion 2:\n",
        "\n",
        "class Rectangle():\n",
        "\n",
        "      def __init__(self,widht,lenght):\n",
        "          self.widht = widht\n",
        "          self.lenght = lenght\n",
        "\n",
        "      def get_widht(self):\n",
        "          return self.widht\n",
        "\n",
        "      def get_lenght(self):\n",
        "         return self.lenght\n",
        "\n",
        "      def Perimetre(self): \n",
        "          P= 2*(self.widht + self.lenght)\n",
        "          return P\n",
        "\n",
        "      def Surface(self):\n",
        "          S= self.widht * self.lenght\n",
        "          return S  \n",
        "          \n",
        "          \n",
        "my_rectangle=Rectangle(3,4)\n",
        "print(f'le perimetre de mon rectangle est egal a : {my_rectangle.Perimetre()}')                  \n",
        "print(f'la surface de mon rectangle est : {my_rectangle.Surface()}')\n"
      ],
      "metadata": {
        "id": "JOiBEgCvaWRz",
        "outputId": "cf80ebf3-8228-42c4-e891-4a0da0fb059c",
        "colab": {
          "base_uri": "https://localhost:8080/"
        }
      },
      "execution_count": 44,
      "outputs": [
        {
          "output_type": "stream",
          "name": "stdout",
          "text": [
            "le perimetre de mon rectangle est egal a : 14\n",
            "la surface de mon rectangle est : 12\n"
          ]
        }
      ]
    },
    {
      "cell_type": "code",
      "source": [
        "#question 1\n",
        "\n",
        "class Point3D ():\n",
        "   \n",
        "   def __init__(self,x,y,z):\n",
        "     self.X = x\n",
        "     self.y = y\n",
        "     self.z = z\n",
        "\n",
        "   def get_x(self):\n",
        "     return self.X\n",
        "\n",
        "   def get_Y(self):\n",
        "     return self.y\n",
        "\n",
        "   def get_z(self):\n",
        "     return self.z      \n",
        "\n",
        "my_point=Point3D(1,2,3)\n",
        "print(f'x = {my_point.get_x()} / y = {my_point.get_Y()} / z = {my_point.get_z()}')"
      ],
      "metadata": {
        "id": "ytoBnnc_agKA",
        "outputId": "6663e255-2a74-4dce-d8b0-e8c01cb2ef7c",
        "colab": {
          "base_uri": "https://localhost:8080/"
        }
      },
      "execution_count": 45,
      "outputs": [
        {
          "output_type": "stream",
          "name": "stdout",
          "text": [
            "x = 1 / y = 2 / z = 3\n"
          ]
        }
      ]
    }
  ],
  "metadata": {
    "colab": {
      "collapsed_sections": [],
      "name": "Bienvenue dans Colaboratory",
      "toc_visible": true,
      "provenance": []
    },
    "kernelspec": {
      "display_name": "Python 3",
      "name": "python3"
    }
  },
  "nbformat": 4,
  "nbformat_minor": 0
}